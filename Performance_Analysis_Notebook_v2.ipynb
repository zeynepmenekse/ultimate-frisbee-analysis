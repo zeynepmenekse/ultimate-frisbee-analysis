{
 "cells": [
  {
   "cell_type": "markdown",
   "metadata": {},
   "source": [
    "# Performance Analysis Project\n",
    "\n",
    "This project explores how various factors such as sleep, mood, nutrition, and training difficulty influence performance, particularly the catch/throw percentage. The data is analyzed using visualization, correlation, and regression methods."
   ]
  },
  {
   "cell_type": "code",
   "execution_count": null,
   "metadata": {},
   "outputs": [],
   "source": [
    "import pandas as pd\n",
    "import matplotlib.pyplot as plt\n",
    "import seaborn as sns\n",
    "from scipy.stats import pearsonr\n",
    "import statsmodels.api as sm"
   ]
  },
  {
   "cell_type": "markdown",
   "metadata": {},
   "source": [
    "## Load and Clean the Data\n",
    "\n",
    "We load the dataset and convert necessary columns to appropriate formats. Missing values are handled by filling with column means."
   ]
  },
  {
   "cell_type": "code",
   "execution_count": null,
   "metadata": {},
   "outputs": [],
   "source": [
    "file_path = \"/content/dsa_project_dataset_latestvers.xlsx\"\n",
    "data = pd.read_excel(file_path)\n",
    "data['Date'] = pd.to_datetime(data['Date'])\n",
    "\n",
    "numeric_cols = ['Sleep Hours', 'Sleep Quality', 'Caffeine (mg)', 'Mood (1-10)',\n",
    "                'Training Difficulty', 'Protein (g)', 'Carbohydrates (g)',\n",
    "                'Body Weight (kg)', 'CatchThrow_Percentage']\n",
    "for col in numeric_cols:\n",
    "    data[col] = pd.to_numeric(data[col], errors='coerce')\n",
    "\n",
    "print(\"Missing values:\")\n",
    "print(data.isnull().sum())\n",
    "data.fillna(data.mean(), inplace=True)"
   ]
  },
  {
   "cell_type": "markdown",
   "metadata": {},
   "source": [
    "## Correlation Matrix\n",
    "\n",
    "We generate a heatmap to visualize the correlations between all numeric variables in the dataset."
   ]
  },
  {
   "cell_type": "code",
   "execution_count": null,
   "metadata": {},
   "outputs": [],
   "source": [
    "plt.figure(figsize=(10, 8))\n",
    "correlation_matrix = data.corr()\n",
    "sns.heatmap(correlation_matrix, annot=True, cmap='coolwarm', linewidths=0.5)\n",
    "plt.title('Correlation Matrix')\n",
    "plt.show()"
   ]
  },
  {
   "cell_type": "markdown",
   "metadata": {},
   "source": [
    "## Sleep Hours vs Catch/Throw Percentage"
   ]
  },
  {
   "cell_type": "code",
   "execution_count": null,
   "metadata": {},
   "outputs": [],
   "source": [
    "plt.figure(figsize=(8, 6))\n",
    "sns.scatterplot(x='Sleep Hours', y='CatchThrow_Percentage', data=data)\n",
    "plt.title('Sleep Hours vs Catch/Throw Percentage')\n",
    "plt.xlabel('Sleep Hours')\n",
    "plt.ylabel('Catch/Throw Percentage')\n",
    "plt.show()"
   ]
  },
  {
   "cell_type": "markdown",
   "metadata": {},
   "source": [
    "## Linear Regression: Sleep Hours and Performance\n",
    "\n",
    "We fit a linear model and display the regression summary."
   ]
  },
  {
   "cell_type": "code",
   "execution_count": null,
   "metadata": {},
   "outputs": [],
   "source": [
    "X = data['Sleep Hours']\n",
    "y = data['CatchThrow_Percentage']\n",
    "X = sm.add_constant(X)\n",
    "model = sm.OLS(y, X).fit()\n",
    "print(model.summary())"
   ]
  },
  {
   "cell_type": "markdown",
   "metadata": {},
   "source": [
    "## Pearson Correlation\n",
    "\n",
    "We test the statistical significance of the relationship."
   ]
  },
  {
   "cell_type": "code",
   "execution_count": null,
   "metadata": {},
   "outputs": [],
   "source": [
    "correlation, p_value = pearsonr(data['Sleep Hours'], data['CatchThrow_Percentage'])\n",
    "print(\"Correlation (Sleep Hours vs CatchThrow %):\", correlation)\n",
    "print(\"P-Value:\", p_value)\n",
    "if p_value < 0.05:\n",
    "    print(\"Significant relationship.\")\n",
    "else:\n",
    "    print(\"No significant relationship.\")"
   ]
  }
 ],
 "metadata": {
  "kernelspec": {
   "display_name": "Python 3",
   "language": "python",
   "name": "python3"
  },
  "language_info": {
   "name": "python",
   "version": "3.x"
  }
 },
 "nbformat": 4,
 "nbformat_minor": 2
}
